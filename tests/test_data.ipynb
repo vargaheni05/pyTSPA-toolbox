{
 "cells": [
  {
   "cell_type": "markdown",
   "id": "54a6648b",
   "metadata": {},
   "source": [
    "#### Import, version test"
   ]
  },
  {
   "cell_type": "code",
   "execution_count": null,
   "id": "668198dc",
   "metadata": {},
   "outputs": [],
   "source": [
    "import pyTSPA\n",
    "print(pyTSPA.__version__)"
   ]
  },
  {
   "cell_type": "markdown",
   "id": "330a2ef3",
   "metadata": {},
   "source": [
    "#### `load_match_data` test"
   ]
  },
  {
   "cell_type": "code",
   "execution_count": null,
   "id": "50955719",
   "metadata": {},
   "outputs": [],
   "source": [
    "df1 = pyTSPA.load_match_data(\"Football_ENG_2017_18.xlsx\")\n",
    "df1"
   ]
  },
  {
   "cell_type": "code",
   "execution_count": null,
   "id": "32307347",
   "metadata": {},
   "outputs": [],
   "source": [
    "df2 = pyTSPA.load_match_data(\"NBA Shotlog_16_17.csv\")\n",
    "df2"
   ]
  },
  {
   "cell_type": "markdown",
   "id": "458c7051",
   "metadata": {},
   "source": [
    "#### `data_profiling` test"
   ]
  },
  {
   "cell_type": "code",
   "execution_count": null,
   "id": "49698b97",
   "metadata": {},
   "outputs": [],
   "source": [
    "pyTSPA.data_profiling(df1)"
   ]
  },
  {
   "cell_type": "code",
   "execution_count": null,
   "id": "e9e1803c",
   "metadata": {},
   "outputs": [],
   "source": [
    "pyTSPA.data_profiling(df2)"
   ]
  },
  {
   "cell_type": "markdown",
   "id": "31d07a13",
   "metadata": {},
   "source": [
    "#### `clean_data` test"
   ]
  },
  {
   "cell_type": "code",
   "execution_count": null,
   "id": "8b34cf5a",
   "metadata": {},
   "outputs": [],
   "source": [
    "df2=pyTSPA.clean_data(df2)"
   ]
  },
  {
   "cell_type": "code",
   "execution_count": null,
   "id": "e13ccb53",
   "metadata": {},
   "outputs": [],
   "source": [
    "pyTSPA.data_profiling(df2)"
   ]
  },
  {
   "cell_type": "code",
   "execution_count": null,
   "id": "3e6614ef",
   "metadata": {},
   "outputs": [
    {
     "ename": "NameError",
     "evalue": "name 'pyTSPA' is not defined",
     "output_type": "error",
     "traceback": [
      "\u001b[1;31m---------------------------------------------------------------------------\u001b[0m",
      "\u001b[1;31mNameError\u001b[0m                                 Traceback (most recent call last)",
      "Cell \u001b[1;32mIn[1], line 1\u001b[0m\n\u001b[1;32m----> 1\u001b[0m \u001b[43mpyTSPA\u001b[49m\u001b[38;5;241m.\u001b[39mdata_profiling(df2)\n",
      "\u001b[1;31mNameError\u001b[0m: name 'pyTSPA' is not defined"
     ]
    }
   ],
   "source": [
    "df2=pyTSPA.clean_data(df1)\n",
    "pyTSPA.data_profiling(df1)"
   ]
  }
 ],
 "metadata": {
  "kernelspec": {
   "display_name": "Python 3",
   "language": "python",
   "name": "python3"
  },
  "language_info": {
   "codemirror_mode": {
    "name": "ipython",
    "version": 3
   },
   "file_extension": ".py",
   "mimetype": "text/x-python",
   "name": "python",
   "nbconvert_exporter": "python",
   "pygments_lexer": "ipython3",
   "version": "3.12.6"
  }
 },
 "nbformat": 4,
 "nbformat_minor": 5
}
