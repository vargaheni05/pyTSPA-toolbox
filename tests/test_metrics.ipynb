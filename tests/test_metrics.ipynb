{
 "cells": [
  {
   "cell_type": "code",
   "execution_count": 1,
   "id": "8113aa5b",
   "metadata": {},
   "outputs": [],
   "source": [
    "import pyTSPA\n",
    "import warnings\n",
    "warnings.filterwarnings(\"ignore\")"
   ]
  },
  {
   "cell_type": "markdown",
   "id": "0259d2c4",
   "metadata": {},
   "source": [
    "#### `result_stats` test"
   ]
  },
  {
   "cell_type": "code",
   "execution_count": 2,
   "id": "3b76c979",
   "metadata": {},
   "outputs": [
    {
     "name": "stdout",
     "output_type": "stream",
     "text": [
      "{'Home Wins': 890, 'Draws': 539, 'Away Wins': 607}\n"
     ]
    }
   ],
   "source": [
    "df = pyTSPA.load_match_data(\"Football_ENG_2017_18.xlsx\")\n",
    "print(pyTSPA.result_stats(df))"
   ]
  },
  {
   "cell_type": "markdown",
   "id": "a42b901c",
   "metadata": {},
   "source": [
    "#### `team_performance` test"
   ]
  },
  {
   "cell_type": "code",
   "execution_count": 3,
   "id": "04cde1e5",
   "metadata": {},
   "outputs": [
    {
     "name": "stdout",
     "output_type": "stream",
     "text": [
      "{'Team': 'Arsenal', 'Matches': 38, 'Wins': 19, 'Draws': 6, 'Losses': 13, 'Goals For': 74, 'Goals Against': 51, 'Goal Difference': 23, 'Points': 63}\n"
     ]
    }
   ],
   "source": [
    "print(pyTSPA.team_performance(df, \"Arsenal\"))"
   ]
  },
  {
   "cell_type": "markdown",
   "id": "ad396c5a",
   "metadata": {},
   "source": [
    "#### `get_all_teams` test"
   ]
  },
  {
   "cell_type": "code",
   "execution_count": 4,
   "id": "439fccf5",
   "metadata": {},
   "outputs": [
    {
     "name": "stdout",
     "output_type": "stream",
     "text": [
      "['AFC Wimbledon' 'Accrington' 'Arsenal' 'Aston Villa' 'Barnet' 'Barnsley'\n",
      " 'Birmingham' 'Blackburn' 'Blackpool' 'Bolton' 'Bournemouth' 'Bradford'\n",
      " 'Brentford' 'Brighton' 'Bristol City' 'Bristol Rvs' 'Burnley' 'Burton'\n",
      " 'Bury' 'Cambridge' 'Cardiff' 'Carlisle' 'Charlton' 'Chelsea' 'Cheltenham'\n",
      " 'Chesterfield' 'Colchester' 'Coventry' 'Crawley Town' 'Crewe'\n",
      " 'Crystal Palace' 'Derby' 'Doncaster' 'Everton' 'Exeter' 'Fleetwood Town'\n",
      " 'Forest Green' 'Fulham' 'Gillingham' 'Grimsby' 'Huddersfield' 'Hull'\n",
      " 'Ipswich' 'Leeds' 'Leicester' 'Lincoln' 'Liverpool' 'Luton' 'Man City'\n",
      " 'Man United' 'Mansfield' 'Middlesbrough' 'Millwall' 'Milton Keynes Dons'\n",
      " 'Morecambe' 'Newcastle' 'Newport County' 'Northampton' 'Norwich'\n",
      " \"Nott'm Forest\" 'Notts County' 'Oldham' 'Oxford' 'Peterboro' 'Plymouth'\n",
      " 'Port Vale' 'Portsmouth' 'Preston' 'QPR' 'Reading' 'Rochdale' 'Rotherham'\n",
      " 'Scunthorpe' 'Sheffield United' 'Sheffield Weds' 'Shrewsbury'\n",
      " 'Southampton' 'Southend' 'Stevenage' 'Stoke' 'Sunderland' 'Swansea'\n",
      " 'Swindon' 'Tottenham' 'Walsall' 'Watford' 'West Brom' 'West Ham' 'Wigan'\n",
      " 'Wolves' 'Wycombe' 'Yeovil']\n"
     ]
    }
   ],
   "source": [
    "print(pyTSPA.get_all_teams(df))"
   ]
  },
  {
   "cell_type": "markdown",
   "id": "af80ed15",
   "metadata": {},
   "source": [
    "#### `each_team_performance` test"
   ]
  },
  {
   "cell_type": "code",
   "execution_count": 5,
   "id": "f737b0ea",
   "metadata": {},
   "outputs": [
    {
     "data": {
      "text/html": [
       "<div>\n",
       "<style scoped>\n",
       "    .dataframe tbody tr th:only-of-type {\n",
       "        vertical-align: middle;\n",
       "    }\n",
       "\n",
       "    .dataframe tbody tr th {\n",
       "        vertical-align: top;\n",
       "    }\n",
       "\n",
       "    .dataframe thead th {\n",
       "        text-align: right;\n",
       "    }\n",
       "</style>\n",
       "<table border=\"1\" class=\"dataframe\">\n",
       "  <thead>\n",
       "    <tr style=\"text-align: right;\">\n",
       "      <th></th>\n",
       "      <th>Team</th>\n",
       "      <th>Matches</th>\n",
       "      <th>Wins</th>\n",
       "      <th>Draws</th>\n",
       "      <th>Losses</th>\n",
       "      <th>Goals For</th>\n",
       "      <th>Goals Against</th>\n",
       "      <th>Goal Difference</th>\n",
       "      <th>Points</th>\n",
       "    </tr>\n",
       "  </thead>\n",
       "  <tbody>\n",
       "    <tr>\n",
       "      <th>0</th>\n",
       "      <td>Man City</td>\n",
       "      <td>38</td>\n",
       "      <td>32</td>\n",
       "      <td>4</td>\n",
       "      <td>2</td>\n",
       "      <td>106</td>\n",
       "      <td>27</td>\n",
       "      <td>79</td>\n",
       "      <td>100</td>\n",
       "    </tr>\n",
       "    <tr>\n",
       "      <th>1</th>\n",
       "      <td>Wolves</td>\n",
       "      <td>46</td>\n",
       "      <td>30</td>\n",
       "      <td>9</td>\n",
       "      <td>7</td>\n",
       "      <td>82</td>\n",
       "      <td>39</td>\n",
       "      <td>43</td>\n",
       "      <td>99</td>\n",
       "    </tr>\n",
       "    <tr>\n",
       "      <th>2</th>\n",
       "      <td>Wigan</td>\n",
       "      <td>46</td>\n",
       "      <td>29</td>\n",
       "      <td>11</td>\n",
       "      <td>6</td>\n",
       "      <td>89</td>\n",
       "      <td>29</td>\n",
       "      <td>60</td>\n",
       "      <td>98</td>\n",
       "    </tr>\n",
       "    <tr>\n",
       "      <th>3</th>\n",
       "      <td>Blackburn</td>\n",
       "      <td>46</td>\n",
       "      <td>28</td>\n",
       "      <td>12</td>\n",
       "      <td>6</td>\n",
       "      <td>82</td>\n",
       "      <td>40</td>\n",
       "      <td>42</td>\n",
       "      <td>96</td>\n",
       "    </tr>\n",
       "    <tr>\n",
       "      <th>4</th>\n",
       "      <td>Accrington</td>\n",
       "      <td>46</td>\n",
       "      <td>29</td>\n",
       "      <td>6</td>\n",
       "      <td>11</td>\n",
       "      <td>76</td>\n",
       "      <td>46</td>\n",
       "      <td>30</td>\n",
       "      <td>93</td>\n",
       "    </tr>\n",
       "    <tr>\n",
       "      <th>...</th>\n",
       "      <td>...</td>\n",
       "      <td>...</td>\n",
       "      <td>...</td>\n",
       "      <td>...</td>\n",
       "      <td>...</td>\n",
       "      <td>...</td>\n",
       "      <td>...</td>\n",
       "      <td>...</td>\n",
       "      <td>...</td>\n",
       "    </tr>\n",
       "    <tr>\n",
       "      <th>87</th>\n",
       "      <td>Southampton</td>\n",
       "      <td>38</td>\n",
       "      <td>7</td>\n",
       "      <td>15</td>\n",
       "      <td>16</td>\n",
       "      <td>37</td>\n",
       "      <td>56</td>\n",
       "      <td>-19</td>\n",
       "      <td>36</td>\n",
       "    </tr>\n",
       "    <tr>\n",
       "      <th>88</th>\n",
       "      <td>Bury</td>\n",
       "      <td>46</td>\n",
       "      <td>8</td>\n",
       "      <td>12</td>\n",
       "      <td>26</td>\n",
       "      <td>41</td>\n",
       "      <td>71</td>\n",
       "      <td>-30</td>\n",
       "      <td>36</td>\n",
       "    </tr>\n",
       "    <tr>\n",
       "      <th>89</th>\n",
       "      <td>Swansea</td>\n",
       "      <td>38</td>\n",
       "      <td>8</td>\n",
       "      <td>9</td>\n",
       "      <td>21</td>\n",
       "      <td>28</td>\n",
       "      <td>56</td>\n",
       "      <td>-28</td>\n",
       "      <td>33</td>\n",
       "    </tr>\n",
       "    <tr>\n",
       "      <th>90</th>\n",
       "      <td>Stoke</td>\n",
       "      <td>38</td>\n",
       "      <td>7</td>\n",
       "      <td>12</td>\n",
       "      <td>19</td>\n",
       "      <td>35</td>\n",
       "      <td>68</td>\n",
       "      <td>-33</td>\n",
       "      <td>33</td>\n",
       "    </tr>\n",
       "    <tr>\n",
       "      <th>91</th>\n",
       "      <td>West Brom</td>\n",
       "      <td>38</td>\n",
       "      <td>6</td>\n",
       "      <td>13</td>\n",
       "      <td>19</td>\n",
       "      <td>31</td>\n",
       "      <td>56</td>\n",
       "      <td>-25</td>\n",
       "      <td>31</td>\n",
       "    </tr>\n",
       "  </tbody>\n",
       "</table>\n",
       "<p>92 rows × 9 columns</p>\n",
       "</div>"
      ],
      "text/plain": [
       "           Team  Matches  Wins  Draws  Losses  Goals For  Goals Against  \\\n",
       "0      Man City       38    32      4       2        106             27   \n",
       "1        Wolves       46    30      9       7         82             39   \n",
       "2         Wigan       46    29     11       6         89             29   \n",
       "3     Blackburn       46    28     12       6         82             40   \n",
       "4    Accrington       46    29      6      11         76             46   \n",
       "..          ...      ...   ...    ...     ...        ...            ...   \n",
       "87  Southampton       38     7     15      16         37             56   \n",
       "88         Bury       46     8     12      26         41             71   \n",
       "89      Swansea       38     8      9      21         28             56   \n",
       "90        Stoke       38     7     12      19         35             68   \n",
       "91    West Brom       38     6     13      19         31             56   \n",
       "\n",
       "    Goal Difference  Points  \n",
       "0                79     100  \n",
       "1                43      99  \n",
       "2                60      98  \n",
       "3                42      96  \n",
       "4                30      93  \n",
       "..              ...     ...  \n",
       "87              -19      36  \n",
       "88              -30      36  \n",
       "89              -28      33  \n",
       "90              -33      33  \n",
       "91              -25      31  \n",
       "\n",
       "[92 rows x 9 columns]"
      ]
     },
     "execution_count": 5,
     "metadata": {},
     "output_type": "execute_result"
    }
   ],
   "source": [
    "team_stats=pyTSPA.each_team_performance(df)\n",
    "team_stats"
   ]
  },
  {
   "cell_type": "markdown",
   "id": "49d5c987",
   "metadata": {},
   "source": [
    "#### `win_percentage` test"
   ]
  },
  {
   "cell_type": "code",
   "execution_count": 6,
   "id": "fe81a27b",
   "metadata": {},
   "outputs": [
    {
     "name": "stdout",
     "output_type": "stream",
     "text": [
      "0.18421052631578946\n"
     ]
    }
   ],
   "source": [
    "print(pyTSPA.win_percentage(df, \"Stoke\"))"
   ]
  },
  {
   "cell_type": "markdown",
   "id": "e3d50b90",
   "metadata": {},
   "source": [
    "#### `each_win_percentage` test"
   ]
  },
  {
   "cell_type": "code",
   "execution_count": 7,
   "id": "31f331b6",
   "metadata": {},
   "outputs": [
    {
     "data": {
      "text/html": [
       "<div>\n",
       "<style scoped>\n",
       "    .dataframe tbody tr th:only-of-type {\n",
       "        vertical-align: middle;\n",
       "    }\n",
       "\n",
       "    .dataframe tbody tr th {\n",
       "        vertical-align: top;\n",
       "    }\n",
       "\n",
       "    .dataframe thead th {\n",
       "        text-align: right;\n",
       "    }\n",
       "</style>\n",
       "<table border=\"1\" class=\"dataframe\">\n",
       "  <thead>\n",
       "    <tr style=\"text-align: right;\">\n",
       "      <th></th>\n",
       "      <th>Team</th>\n",
       "      <th>WinPercentage</th>\n",
       "    </tr>\n",
       "  </thead>\n",
       "  <tbody>\n",
       "    <tr>\n",
       "      <th>0</th>\n",
       "      <td>Arsenal</td>\n",
       "      <td>0.500000</td>\n",
       "    </tr>\n",
       "    <tr>\n",
       "      <th>1</th>\n",
       "      <td>Brighton</td>\n",
       "      <td>0.236842</td>\n",
       "    </tr>\n",
       "    <tr>\n",
       "      <th>2</th>\n",
       "      <td>Chelsea</td>\n",
       "      <td>0.552632</td>\n",
       "    </tr>\n",
       "    <tr>\n",
       "      <th>3</th>\n",
       "      <td>Crystal Palace</td>\n",
       "      <td>0.289474</td>\n",
       "    </tr>\n",
       "    <tr>\n",
       "      <th>4</th>\n",
       "      <td>Everton</td>\n",
       "      <td>0.342105</td>\n",
       "    </tr>\n",
       "    <tr>\n",
       "      <th>...</th>\n",
       "      <td>...</td>\n",
       "      <td>...</td>\n",
       "    </tr>\n",
       "    <tr>\n",
       "      <th>87</th>\n",
       "      <td>Notts County</td>\n",
       "      <td>0.456522</td>\n",
       "    </tr>\n",
       "    <tr>\n",
       "      <th>88</th>\n",
       "      <td>Port Vale</td>\n",
       "      <td>0.239130</td>\n",
       "    </tr>\n",
       "    <tr>\n",
       "      <th>89</th>\n",
       "      <td>Swindon</td>\n",
       "      <td>0.434783</td>\n",
       "    </tr>\n",
       "    <tr>\n",
       "      <th>90</th>\n",
       "      <td>Yeovil</td>\n",
       "      <td>0.260870</td>\n",
       "    </tr>\n",
       "    <tr>\n",
       "      <th>91</th>\n",
       "      <td>Newport County</td>\n",
       "      <td>0.347826</td>\n",
       "    </tr>\n",
       "  </tbody>\n",
       "</table>\n",
       "<p>92 rows × 2 columns</p>\n",
       "</div>"
      ],
      "text/plain": [
       "              Team  WinPercentage\n",
       "0          Arsenal       0.500000\n",
       "1         Brighton       0.236842\n",
       "2          Chelsea       0.552632\n",
       "3   Crystal Palace       0.289474\n",
       "4          Everton       0.342105\n",
       "..             ...            ...\n",
       "87    Notts County       0.456522\n",
       "88       Port Vale       0.239130\n",
       "89         Swindon       0.434783\n",
       "90          Yeovil       0.260870\n",
       "91  Newport County       0.347826\n",
       "\n",
       "[92 rows x 2 columns]"
      ]
     },
     "execution_count": 7,
     "metadata": {},
     "output_type": "execute_result"
    }
   ],
   "source": [
    "wpc=pyTSPA.each_win_percentage(df)\n",
    "wpc"
   ]
  },
  {
   "cell_type": "markdown",
   "id": "f7cbacfb",
   "metadata": {},
   "source": [
    "#### `pythagorean_expectation` test"
   ]
  },
  {
   "cell_type": "code",
   "execution_count": 8,
   "id": "0ddd0a62",
   "metadata": {},
   "outputs": [
    {
     "name": "stdout",
     "output_type": "stream",
     "text": [
      "0.20943751068558727\n"
     ]
    }
   ],
   "source": [
    "print(pyTSPA.pythagorean_expectation(df, \"Stoke\"))"
   ]
  },
  {
   "cell_type": "markdown",
   "id": "1aff46b0",
   "metadata": {},
   "source": [
    "#### `each_pythagorean_expectation` test"
   ]
  },
  {
   "cell_type": "code",
   "execution_count": 9,
   "id": "df0e981b",
   "metadata": {},
   "outputs": [
    {
     "data": {
      "text/html": [
       "<div>\n",
       "<style scoped>\n",
       "    .dataframe tbody tr th:only-of-type {\n",
       "        vertical-align: middle;\n",
       "    }\n",
       "\n",
       "    .dataframe tbody tr th {\n",
       "        vertical-align: top;\n",
       "    }\n",
       "\n",
       "    .dataframe thead th {\n",
       "        text-align: right;\n",
       "    }\n",
       "</style>\n",
       "<table border=\"1\" class=\"dataframe\">\n",
       "  <thead>\n",
       "    <tr style=\"text-align: right;\">\n",
       "      <th></th>\n",
       "      <th>Team</th>\n",
       "      <th>PythagoreanExpectation</th>\n",
       "    </tr>\n",
       "  </thead>\n",
       "  <tbody>\n",
       "    <tr>\n",
       "      <th>0</th>\n",
       "      <td>Arsenal</td>\n",
       "      <td>0.677974</td>\n",
       "    </tr>\n",
       "    <tr>\n",
       "      <th>1</th>\n",
       "      <td>Brighton</td>\n",
       "      <td>0.283890</td>\n",
       "    </tr>\n",
       "    <tr>\n",
       "      <th>2</th>\n",
       "      <td>Chelsea</td>\n",
       "      <td>0.726929</td>\n",
       "    </tr>\n",
       "    <tr>\n",
       "      <th>3</th>\n",
       "      <td>Crystal Palace</td>\n",
       "      <td>0.400990</td>\n",
       "    </tr>\n",
       "    <tr>\n",
       "      <th>4</th>\n",
       "      <td>Everton</td>\n",
       "      <td>0.365283</td>\n",
       "    </tr>\n",
       "    <tr>\n",
       "      <th>...</th>\n",
       "      <td>...</td>\n",
       "      <td>...</td>\n",
       "    </tr>\n",
       "    <tr>\n",
       "      <th>87</th>\n",
       "      <td>Notts County</td>\n",
       "      <td>0.686317</td>\n",
       "    </tr>\n",
       "    <tr>\n",
       "      <th>88</th>\n",
       "      <td>Port Vale</td>\n",
       "      <td>0.348476</td>\n",
       "    </tr>\n",
       "    <tr>\n",
       "      <th>89</th>\n",
       "      <td>Swindon</td>\n",
       "      <td>0.515148</td>\n",
       "    </tr>\n",
       "    <tr>\n",
       "      <th>90</th>\n",
       "      <td>Yeovil</td>\n",
       "      <td>0.382275</td>\n",
       "    </tr>\n",
       "    <tr>\n",
       "      <th>91</th>\n",
       "      <td>Newport County</td>\n",
       "      <td>0.482462</td>\n",
       "    </tr>\n",
       "  </tbody>\n",
       "</table>\n",
       "<p>92 rows × 2 columns</p>\n",
       "</div>"
      ],
      "text/plain": [
       "              Team  PythagoreanExpectation\n",
       "0          Arsenal                0.677974\n",
       "1         Brighton                0.283890\n",
       "2          Chelsea                0.726929\n",
       "3   Crystal Palace                0.400990\n",
       "4          Everton                0.365283\n",
       "..             ...                     ...\n",
       "87    Notts County                0.686317\n",
       "88       Port Vale                0.348476\n",
       "89         Swindon                0.515148\n",
       "90          Yeovil                0.382275\n",
       "91  Newport County                0.482462\n",
       "\n",
       "[92 rows x 2 columns]"
      ]
     },
     "execution_count": 9,
     "metadata": {},
     "output_type": "execute_result"
    }
   ],
   "source": [
    "pyth=pyTSPA.each_pythagorean_expectation(df)\n",
    "pyth"
   ]
  },
  {
   "cell_type": "markdown",
   "id": "2272452d",
   "metadata": {},
   "source": [
    "### Pythagorean Expectation Analysis\n",
    "\n",
    "The Pythagorean Expectation is a metric that estimates a team's expected winning percentage based on the number of goals scored and conceded. \n",
    "\n",
    "- It is particularly useful in identifying teams that are overperforming or underperforming relative to their scoring and conceding patterns.\n",
    "- A higher Pythagorean Expectation indicates that a team is more likely to win based on its goal-scoring and defensive performance.\n",
    "- By comparing the actual win percentage to the Pythagorean Expectation, we can assess whether a team is performing as expected or deviating significantly.\n",
    "\n",
    "In the plots below, we visualize the correlation between the Pythagorean Expectation and both the actual win percentage and the total number of wins for each team."
   ]
  },
  {
   "cell_type": "code",
   "execution_count": 10,
   "id": "6e735659",
   "metadata": {},
   "outputs": [
    {
     "data": {
      "text/plain": [
       "<Figure size 1000x600 with 0 Axes>"
      ]
     },
     "metadata": {},
     "output_type": "display_data"
    },
    {
     "data": {
      "image/png": "[encoded data removed]",
      "text/plain": [
       "<Figure size 500x500 with 1 Axes>"
      ]
     },
     "metadata": {},
     "output_type": "display_data"
    },
    {
     "data": {
      "text/plain": [
       "<Figure size 1000x600 with 0 Axes>"
      ]
     },
     "metadata": {},
     "output_type": "display_data"
    },
    {
     "data": {
      "image/png": "[encoded data removed]",
      "text/plain": [
       "<Figure size 500x500 with 1 Axes>"
      ]
     },
     "metadata": {},
     "output_type": "display_data"
    }
   ],
   "source": [
    "import seaborn as sns\n",
    "import matplotlib.pyplot as plt\n",
    "import pandas as pd\n",
    "\n",
    "team_stats = pd.merge(team_stats, wpc, on='Team', how='left')\n",
    "team_stats = pd.merge(team_stats, pyth, on='Team', how='left')\n",
    "\n",
    "# Pythagorean Expectation vs Win Percentage\n",
    "plt.figure(figsize=(10, 6))\n",
    "sns.relplot(x=\"PythagoreanExpectation\", y=\"WinPercentage\", data=team_stats)\n",
    "plt.title(\"Pythagorean Expectation vs Win Percentage\")\n",
    "plt.xlabel(\"Pythagorean Expectation\")\n",
    "plt.ylabel(\"Win Percentage\")\n",
    "plt.grid(alpha=0.3)\n",
    "plt.tight_layout()\n",
    "plt.show()\n",
    "\n",
    "# Pythagorean Expectation vs Wins\n",
    "plt.figure(figsize=(10, 6))\n",
    "sns.relplot(x=\"PythagoreanExpectation\", y=\"Wins\", data=team_stats)\n",
    "plt.title(\"Pythagorean Expectation vs Wins\")\n",
    "plt.xlabel(\"Pythagorean Expectation\")\n",
    "plt.ylabel(\"Wins\")\n",
    "plt.grid(alpha=0.3)\n",
    "plt.tight_layout()\n",
    "plt.show()"
   ]
  },
  {
   "cell_type": "markdown",
   "id": "dd5cfb24",
   "metadata": {},
   "source": [
    "# Machine Learning Functions in metrics.py\n",
    "\n",
    "The `metrics.py` module includes two machine learning-based functions that predict football match outcomes using logistic regression. These functions provide a data-driven approach to analyzing team performance and predicting future match results.\n",
    "\n",
    "---\n",
    "\n",
    "## Logistic Regression Prediction\n",
    "\n",
    "### `logistic_regression_prediction(df: pd.DataFrame) -> dict`\n",
    "\n",
    "- **Purpose:**  \n",
    "  Predicts match outcomes (`Home Win`, `Draw`, `Away Win`) using a multinomial logistic regression model based on:\n",
    "  - Home and Away Win Percentage\n",
    "  - Home and Away Pythagorean Expectation\n",
    "  - Goal Difference\n",
    "\n",
    "- **Output:**  \n",
    "  - Model accuracy and confusion matrix\n",
    "  - Predicted outcomes for the test set\n",
    "  - Trained model for future predictions\n",
    "\n",
    "---\n",
    "\n",
    "## Match Outcome Prediction\n",
    "\n",
    "### `predict_match_outcome(home_team: str, away_team: str, model: LogisticRegression, df: pd.DataFrame) -> dict`\n",
    "\n",
    "- **Purpose:**  \n",
    "  Predicts the outcome and associated probabilities for a specific match using the trained logistic regression model.\n",
    "\n",
    "- **Output:**  \n",
    "  - Predicted outcome (`Home Win`, `Draw`, `Away Win`)\n",
    "  - Probability distribution for each outcome\n",
    "\n",
    "---\n",
    "\n",
    "These functions extend the existing statistical analysis capabilities of `metrics.py`, allowing for more advanced predictions based on historical data."
   ]
  },
  {
   "cell_type": "markdown",
   "id": "f8a071b9",
   "metadata": {},
   "source": [
    "#### `logistic_regression_prediction` test"
   ]
  },
  {
   "cell_type": "code",
   "execution_count": 11,
   "id": "34ff025a",
   "metadata": {},
   "outputs": [
    {
     "name": "stdout",
     "output_type": "stream",
     "text": [
      "{'accuracy': 0.5156054931335831, 'confusion_matrix': [[150, 61, 58], [94, 111, 63], [60, 52, 152]], 'predictions':      Home_WinPercentage  Away_WinPercentage  Home_PythagoreanExpectation  \\\n",
      "0              0.014596            0.342956                     0.387980   \n",
      "1              0.999678           -0.391535                     1.033241   \n",
      "2             -0.149585           -0.149585                    -0.056971   \n",
      "3              0.342956            1.163859                     0.755985   \n",
      "4              0.671317            0.014596                     1.079761   \n",
      "..                  ...                 ...                          ...   \n",
      "796           -0.590280           -1.584003                    -0.957558   \n",
      "797            1.984761            0.342956                     2.293692   \n",
      "798            0.014596           -1.298848                    -0.185473   \n",
      "799            0.507137           -0.149585                     0.821489   \n",
      "800           -0.642126            1.984761                     0.040826   \n",
      "\n",
      "     Away_PythagoreanExpectation  GoalDifference  Actual  Predicted  \n",
      "0                       0.755985       -0.254936       1          1  \n",
      "1                      -0.473436        1.043754       2          2  \n",
      "2                      -0.317435        0.180437       2          2  \n",
      "3                       0.904179       -0.102662       0          0  \n",
      "4                      -0.483577        1.083006       2          2  \n",
      "..                           ...             ...     ...        ...  \n",
      "796                    -1.439300        0.333727       2          2  \n",
      "797                    -0.006830        1.593692       2          2  \n",
      "798                    -1.031513        0.586096       2          2  \n",
      "799                     0.093928        0.504020       2          1  \n",
      "800                     2.293692       -1.560678       0          0  \n",
      "\n",
      "[801 rows x 7 columns], 'model': LogisticRegression(max_iter=1000, multi_class='multinomial')}\n"
     ]
    }
   ],
   "source": [
    "print(pyTSPA.logistic_regression_prediction(df))"
   ]
  },
  {
   "cell_type": "markdown",
   "id": "d29c7372",
   "metadata": {},
   "source": [
    "#### `predict_match_outcome` test"
   ]
  },
  {
   "cell_type": "code",
   "execution_count": 12,
   "id": "e7a740bf",
   "metadata": {},
   "outputs": [
    {
     "name": "stdout",
     "output_type": "stream",
     "text": [
      "{'predicted_outcome': 'Home Win', 'probabilities': {'Home Win': 0.38, 'Draw': 0.37, 'Away Win': 0.25}}\n"
     ]
    }
   ],
   "source": [
    "result = pyTSPA.logistic_regression_prediction(df)\n",
    "model = result[\"model\"]\n",
    "prediction = pyTSPA.predict_match_outcome(\"Arsenal\", \"Stoke\", model, df)\n",
    "print(prediction)"
   ]
  },
  {
   "cell_type": "markdown",
   "id": "adea47da",
   "metadata": {},
   "source": [
    "# Season Half Prediction - Pythagorean Expectation Analysis\n",
    "\n",
    "The `season_half_prediction()` function in `metrics.py` uses the Pythagorean Expectation metric to predict the outcomes of the second half of the season based on the performance in the first half.\n",
    "\n",
    "---\n",
    "\n",
    "## Purpose:\n",
    "- To estimate the likely outcomes (`Home Win`, `Draw`, `Away Win`) of matches in the second half of the season using the Pythagorean Expectation values calculated from the first half.\n",
    "- Provides a simple, data-driven approach to identifying potential match outcomes without advanced machine learning.\n",
    "\n",
    "---\n",
    "\n",
    "## Implementation:\n",
    "- The dataset is split into two halves based on the match dates.\n",
    "- The Pythagorean Expectation values are calculated for all teams using only the first half of the season.\n",
    "- These values are then applied to the second half of the season, comparing the `Home` and `Away` Pythagorean Expectation values to predict the match outcome.\n",
    "\n",
    "---\n",
    "\n",
    "## Output:\n",
    "- `PredictedOutcome`: Predicted match outcome (`Home Win`, `Draw`, `Away Win`) based on the Pythagorean Expectation comparison.\n",
    "- The function provides a simple but effective method for evaluating team strength and predicting potential match results using only statistical metrics.\n",
    "\n",
    "---"
   ]
  },
  {
   "cell_type": "markdown",
   "id": "d34f1316",
   "metadata": {},
   "source": [
    "#### `season_half_prediction` test"
   ]
  },
  {
   "cell_type": "code",
   "execution_count": 15,
   "id": "d29885f6",
   "metadata": {},
   "outputs": [
    {
     "data": {
      "text/html": [
       "<div>\n",
       "<style scoped>\n",
       "    .dataframe tbody tr th:only-of-type {\n",
       "        vertical-align: middle;\n",
       "    }\n",
       "\n",
       "    .dataframe tbody tr th {\n",
       "        vertical-align: top;\n",
       "    }\n",
       "\n",
       "    .dataframe thead th {\n",
       "        text-align: right;\n",
       "    }\n",
       "</style>\n",
       "<table border=\"1\" class=\"dataframe\">\n",
       "  <thead>\n",
       "    <tr style=\"text-align: right;\">\n",
       "      <th></th>\n",
       "      <th>Date</th>\n",
       "      <th>HomeTeam</th>\n",
       "      <th>AwayTeam</th>\n",
       "      <th>FTR</th>\n",
       "      <th>Home_PythagoreanExpectation</th>\n",
       "      <th>Away_PythagoreanExpectation</th>\n",
       "      <th>PredictedOutcome</th>\n",
       "    </tr>\n",
       "  </thead>\n",
       "  <tbody>\n",
       "    <tr>\n",
       "      <th>0</th>\n",
       "      <td>2017-12-26</td>\n",
       "      <td>Liverpool</td>\n",
       "      <td>Swansea</td>\n",
       "      <td>H</td>\n",
       "      <td>0.760633</td>\n",
       "      <td>0.151819</td>\n",
       "      <td>Home Win</td>\n",
       "    </tr>\n",
       "    <tr>\n",
       "      <th>1</th>\n",
       "      <td>2017-12-26</td>\n",
       "      <td>Man United</td>\n",
       "      <td>Burnley</td>\n",
       "      <td>D</td>\n",
       "      <td>0.895578</td>\n",
       "      <td>0.532225</td>\n",
       "      <td>Home Win</td>\n",
       "    </tr>\n",
       "    <tr>\n",
       "      <th>2</th>\n",
       "      <td>2017-12-26</td>\n",
       "      <td>Bradford</td>\n",
       "      <td>Peterboro</td>\n",
       "      <td>A</td>\n",
       "      <td>0.623077</td>\n",
       "      <td>0.568173</td>\n",
       "      <td>Home Win</td>\n",
       "    </tr>\n",
       "    <tr>\n",
       "      <th>3</th>\n",
       "      <td>2017-12-26</td>\n",
       "      <td>West Brom</td>\n",
       "      <td>Everton</td>\n",
       "      <td>D</td>\n",
       "      <td>0.211892</td>\n",
       "      <td>0.390244</td>\n",
       "      <td>Away Win</td>\n",
       "    </tr>\n",
       "    <tr>\n",
       "      <th>4</th>\n",
       "      <td>2017-12-26</td>\n",
       "      <td>Watford</td>\n",
       "      <td>Leicester</td>\n",
       "      <td>H</td>\n",
       "      <td>0.386737</td>\n",
       "      <td>0.517538</td>\n",
       "      <td>Away Win</td>\n",
       "    </tr>\n",
       "    <tr>\n",
       "      <th>...</th>\n",
       "      <td>...</td>\n",
       "      <td>...</td>\n",
       "      <td>...</td>\n",
       "      <td>...</td>\n",
       "      <td>...</td>\n",
       "      <td>...</td>\n",
       "      <td>...</td>\n",
       "    </tr>\n",
       "    <tr>\n",
       "      <th>1013</th>\n",
       "      <td>2018-11-04</td>\n",
       "      <td>Wolves</td>\n",
       "      <td>Derby</td>\n",
       "      <td>H</td>\n",
       "      <td>0.864827</td>\n",
       "      <td>0.766048</td>\n",
       "      <td>Home Win</td>\n",
       "    </tr>\n",
       "    <tr>\n",
       "      <th>1014</th>\n",
       "      <td>2018-12-01</td>\n",
       "      <td>Sheffield United</td>\n",
       "      <td>Sheffield Weds</td>\n",
       "      <td>D</td>\n",
       "      <td>0.606458</td>\n",
       "      <td>0.464331</td>\n",
       "      <td>Home Win</td>\n",
       "    </tr>\n",
       "    <tr>\n",
       "      <th>1015</th>\n",
       "      <td>2018-12-02</td>\n",
       "      <td>Chelsea</td>\n",
       "      <td>West Brom</td>\n",
       "      <td>H</td>\n",
       "      <td>0.855030</td>\n",
       "      <td>0.211892</td>\n",
       "      <td>Home Win</td>\n",
       "    </tr>\n",
       "    <tr>\n",
       "      <th>1016</th>\n",
       "      <td>2018-12-03</td>\n",
       "      <td>Stoke</td>\n",
       "      <td>Man City</td>\n",
       "      <td>A</td>\n",
       "      <td>0.239367</td>\n",
       "      <td>0.961538</td>\n",
       "      <td>Away Win</td>\n",
       "    </tr>\n",
       "    <tr>\n",
       "      <th>1017</th>\n",
       "      <td>2018-12-04</td>\n",
       "      <td>Bradford</td>\n",
       "      <td>Shrewsbury</td>\n",
       "      <td>D</td>\n",
       "      <td>0.623077</td>\n",
       "      <td>0.821168</td>\n",
       "      <td>Away Win</td>\n",
       "    </tr>\n",
       "  </tbody>\n",
       "</table>\n",
       "<p>1018 rows × 7 columns</p>\n",
       "</div>"
      ],
      "text/plain": [
       "           Date          HomeTeam        AwayTeam FTR  \\\n",
       "0    2017-12-26         Liverpool         Swansea   H   \n",
       "1    2017-12-26        Man United         Burnley   D   \n",
       "2    2017-12-26          Bradford       Peterboro   A   \n",
       "3    2017-12-26         West Brom         Everton   D   \n",
       "4    2017-12-26           Watford       Leicester   H   \n",
       "...         ...               ...             ...  ..   \n",
       "1013 2018-11-04            Wolves           Derby   H   \n",
       "1014 2018-12-01  Sheffield United  Sheffield Weds   D   \n",
       "1015 2018-12-02           Chelsea       West Brom   H   \n",
       "1016 2018-12-03             Stoke        Man City   A   \n",
       "1017 2018-12-04          Bradford      Shrewsbury   D   \n",
       "\n",
       "      Home_PythagoreanExpectation  Away_PythagoreanExpectation  \\\n",
       "0                        0.760633                     0.151819   \n",
       "1                        0.895578                     0.532225   \n",
       "2                        0.623077                     0.568173   \n",
       "3                        0.211892                     0.390244   \n",
       "4                        0.386737                     0.517538   \n",
       "...                           ...                          ...   \n",
       "1013                     0.864827                     0.766048   \n",
       "1014                     0.606458                     0.464331   \n",
       "1015                     0.855030                     0.211892   \n",
       "1016                     0.239367                     0.961538   \n",
       "1017                     0.623077                     0.821168   \n",
       "\n",
       "     PredictedOutcome  \n",
       "0            Home Win  \n",
       "1            Home Win  \n",
       "2            Home Win  \n",
       "3            Away Win  \n",
       "4            Away Win  \n",
       "...               ...  \n",
       "1013         Home Win  \n",
       "1014         Home Win  \n",
       "1015         Home Win  \n",
       "1016         Away Win  \n",
       "1017         Away Win  \n",
       "\n",
       "[1018 rows x 7 columns]"
      ]
     },
     "execution_count": 15,
     "metadata": {},
     "output_type": "execute_result"
    }
   ],
   "source": [
    "pyTSPA.clean_data(df)\n",
    "prediction=pyTSPA.season_half_prediction(df)\n",
    "prediction"
   ]
  }
 ],
 "metadata": {
  "kernelspec": {
   "display_name": "Python 3",
   "language": "python",
   "name": "python3"
  },
  "language_info": {
   "codemirror_mode": {
    "name": "ipython",
    "version": 3
   },
   "file_extension": ".py",
   "mimetype": "text/x-python",
   "name": "python",
   "nbconvert_exporter": "python",
   "pygments_lexer": "ipython3",
   "version": "3.12.6"
  }
 },
 "nbformat": 4,
 "nbformat_minor": 5
}
